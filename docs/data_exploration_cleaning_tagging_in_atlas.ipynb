{
 "cells": [
  {
   "cell_type": "markdown",
   "source": [
    "# Data Exploration, Cleaning and Labeling in Atlas\n",
    "\n",
    "This tutorial describes how to use Atlas to quickly label or tag a large corpus of text.\n",
    "\n",
    "Atlas provides insights into a text corpus by organizing its documents onto a map.\n",
    "Documents of text that are semantically similar cluster together on a map allowing for the following\n",
    "data labeling workflow:\n",
    "\n",
    "1. Make a map of your data.\n",
    "2. Use the lasso tool in Atlas to tag regions based on your domain expertise.\n",
    "3. Access your annotated tags with an [AtlasProjection](atlas_api.md)'s `get_tags` method.\n",
    "\n",
    "Tags can then be funneled into a downstream machine learning model, used to clean your dataset by deleting points from your project and\n",
    "leveraged to build new maps on subsets of your data."
   ],
   "metadata": {
    "collapsed": false
   }
  },
  {
   "cell_type": "markdown",
   "source": [
    "# Exploring and Labeling a News Dataset\n",
    "In this example, we will map and label a news dataset from the Huggingface hub.\n",
    "To start, load the dataset [ag_news](https://huggingface.co/datasets/ag_news), randomly sample 10,000 points and map it.\n",
    "\n",
    "The dataset is composed of news articles scraped by an [academic news scraping engine](http://groups.di.unipi.it/~gulli/AG_corpus_of_news_articles.html) after 2004.\n"
   ],
   "metadata": {
    "collapsed": false
   }
  },
  {
   "cell_type": "code",
   "execution_count": 3,
   "metadata": {
    "collapsed": true
   },
   "outputs": [
    {
     "name": "stderr",
     "output_type": "stream",
     "text": [
      "Using custom data configuration default\n",
      "Reusing dataset ag_news (/home/andriy/.cache/huggingface/datasets/ag_news/default/0.0.0/bc2bcb40336ace1a0374767fc29bb0296cdaf8a6da7298436239c54d79180548)\n"
     ]
    },
    {
     "data": {
      "text/plain": "  0%|          | 0/2 [00:00<?, ?it/s]",
      "application/vnd.jupyter.widget-view+json": {
       "version_major": 2,
       "version_minor": 0,
       "model_id": "0602e6c758d34ec096f353c9502078f8"
      },
      "application/json": {
       "n": 0,
       "total": 2,
       "elapsed": 0.005051851272583008,
       "ncols": null,
       "nrows": null,
       "prefix": "",
       "ascii": false,
       "unit": "it",
       "unit_scale": false,
       "rate": null,
       "bar_format": null,
       "postfix": null,
       "unit_divisor": 1000,
       "initial": 0,
       "colour": null
      }
     },
     "metadata": {},
     "output_type": "display_data"
    },
    {
     "name": "stderr",
     "output_type": "stream",
     "text": [
      "2023-03-15 16:42:40.435 | INFO     | nomic.project:_create_project:946 - Creating project `News 10k Labeling Example` in organization `Atlas Demo`\n",
      "2023-03-15 16:42:42.108 | INFO     | nomic.atlas:map_text:210 - Uploading text to Atlas.\n",
      "100%|██████████| 10/10 [00:02<00:00,  3.39it/s]\n",
      "2023-03-15 16:42:45.061 | INFO     | nomic.atlas:map_text:227 - Text upload succeeded.\n",
      "2023-03-15 16:42:47.252 | INFO     | nomic.project:create_index:1259 - Created map `News 10k Labeling Example` in project `News 10k Labeling Example`: https://atlas.nomic.ai/map/038e2811-419b-457e-bc2a-bfab95898739/9ec69185-5f11-4840-b605-628e6a364cb0\n",
      "2023-03-15 16:42:47.253 | INFO     | nomic.atlas:map_text:241 - News 10k Labeling Example: https://atlas.nomic.ai/map/038e2811-419b-457e-bc2a-bfab95898739/9ec69185-5f11-4840-b605-628e6a364cb0\n"
     ]
    },
    {
     "name": "stdout",
     "output_type": "stream",
     "text": [
      "[News 10k Labeling Example: https://atlas.nomic.ai/map/038e2811-419b-457e-bc2a-bfab95898739/9ec69185-5f11-4840-b605-628e6a364cb0]\n"
     ]
    }
   ],
   "source": [
    "from nomic import atlas\n",
    "import nomic\n",
    "import numpy as np\n",
    "from datasets import load_dataset\n",
    "nomic.login('7xDPkYXSYDc1_ErdTPIcoAR9RNd8YDlkS3nVNXcVoIMZ6')\n",
    "\n",
    "np.random.seed(0)  # so your map has the same points sampled.\n",
    "\n",
    "dataset = load_dataset('ag_news')['train']\n",
    "\n",
    "max_documents = 10000\n",
    "subset_idxs = np.random.randint(len(dataset), size=max_documents).tolist()\n",
    "documents = [dataset[i] for i in subset_idxs]\n",
    "for i in range(len(documents)):\n",
    "    documents[i]['id'] = i\n",
    "\n",
    "project = atlas.map_text(data=documents,\n",
    "                         id_field='id',\n",
    "                         indexed_field='text',\n",
    "                         name='News 10k Labeling Example',\n",
    "                         description='10k News Articles for Labeling'\n",
    "                         )"
   ]
  },
  {
   "cell_type": "code",
   "execution_count": 4,
   "outputs": [
    {
     "data": {
      "text/plain": "News 10k Labeling Example: https://atlas.nomic.ai/map/038e2811-419b-457e-bc2a-bfab95898739/9ec69185-5f11-4840-b605-628e6a364cb0",
      "text/html": "\n            <h3>Project: News 10k Labeling Example</h3>\n            <script>\n            destroy = function() {\n                document.getElementById(\"iframe9ec69185-5f11-4840-b605-628e6a364cb0\").remove()\n            }\n        </script>\n\n        <h4>Projection ID: 9ec69185-5f11-4840-b605-628e6a364cb0</h4>\n        <div class=\"actions\">\n            <div id=\"hide\" class=\"action\" onclick=\"destroy()\">Hide embedded project</div>\n            <div class=\"action\" id=\"out\">\n                <a href=\"https://atlas.nomic.ai/map/038e2811-419b-457e-bc2a-bfab95898739/9ec69185-5f11-4840-b605-628e6a364cb0\" target=\"_blank\">Explore on atlas.nomic.ai</a>\n            </div>\n        </div>\n        \n        <iframe class=\"iframe\" id=\"iframe9ec69185-5f11-4840-b605-628e6a364cb0\" allow=\"clipboard-read; clipboard-write\" src=\"https://atlas.nomic.ai/map/038e2811-419b-457e-bc2a-bfab95898739/9ec69185-5f11-4840-b605-628e6a364cb0\">\n        </iframe>\n\n        <style>\n            .iframe {\n                /* vh can be **very** large in vscode ipynb. */\n                height: min(75vh, 66vw);\n                width: 100%;\n            }\n        </style>\n        \n        <style>\n            .actions {\n              display: block;\n            }\n            .action {\n              min-height: 18px;\n              margin: 5px;\n              transition: all 500ms ease-in-out;\n            }\n            .action:hover {\n              cursor: pointer;\n            }\n            #hide:hover::after {\n                content: \" X\";\n            }\n            #out:hover::after {\n                content: \"\";\n            }\n        </style>\n        \n            "
     },
     "execution_count": 4,
     "metadata": {},
     "output_type": "execute_result"
    }
   ],
   "source": [
    "project.maps[0]"
   ],
   "metadata": {
    "collapsed": false
   }
  },
  {
   "cell_type": "code",
   "execution_count": null,
   "outputs": [],
   "source": [],
   "metadata": {
    "collapsed": false
   }
  }
 ],
 "metadata": {
  "kernelspec": {
   "display_name": "Python 3",
   "language": "python",
   "name": "python3"
  },
  "language_info": {
   "codemirror_mode": {
    "name": "ipython",
    "version": 2
   },
   "file_extension": ".py",
   "mimetype": "text/x-python",
   "name": "python",
   "nbconvert_exporter": "python",
   "pygments_lexer": "ipython2",
   "version": "2.7.6"
  }
 },
 "nbformat": 4,
 "nbformat_minor": 0
}
