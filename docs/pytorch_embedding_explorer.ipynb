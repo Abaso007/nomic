{
 "cells": [
  {
   "cell_type": "markdown",
   "metadata": {},
   "source": [
    "# Exploring a Pytorch Models Latent Space\n",
    "Atlas can be used to better understand your deep neural nets training and test characteristics.\n",
    "By interacting with your models embeddings (logits) during training and evaluation you can:\n",
    "- Identify which classes, targets or concepts your model has ease/difficulty learning.\n",
    "- Identify mislabeled datapoints.\n",
    "- Spot bugs/errors in your model implementation.\n",
    "\n",
    "Atlas has a Pytorch Lightning hook that you can plug straight into your pytorch lightning training scripts.\n",
    "This tutorial will take you through using it to visualize the training of a two layer neural network on MNIST."
   ]
  },
  {
   "cell_type": "code",
   "execution_count": null,
   "metadata": {
    "pycharm": {
     "is_executing": true
    }
   },
   "outputs": [],
   "source": [
    "!pip install pytorch-lightning torch torchvision torchmetrics"
   ]
  },
  {
   "cell_type": "code",
   "execution_count": 2,
   "metadata": {},
   "outputs": [],
   "source": [
    "import os\n",
    "import torch\n",
    "from pytorch_lightning import LightningModule, Trainer\n",
    "from pytorch_lightning.callbacks.progress import TQDMProgressBar\n",
    "from torch.nn import functional as F\n",
    "from torch.utils.data import DataLoader, random_split\n",
    "from torchvision import transforms\n",
    "from torchvision.datasets import MNIST\n",
    "import torchmetrics\n",
    "from nomic.pl_callbacks import AtlasEmbeddingExplorer\n",
    "import nomic\n",
    "\n",
    "PATH_DATASETS = os.environ.get(\"PATH_DATASETS\", \".\")\n",
    "BATCH_SIZE = 256 if torch.cuda.is_available() else 64\n",
    "torch.manual_seed(0)\n",
    "nomic.login('7xDPkYXSYDc1_ErdTPIcoAR9RNd8YDlkS3nVNXcVoIMZ6')\n"
   ]
  },
  {
   "cell_type": "markdown",
   "metadata": {},
   "source": [
    "# The Lightning Module"
   ]
  },
  {
   "cell_type": "code",
   "execution_count": 3,
   "metadata": {},
   "outputs": [],
   "source": [
    "\n",
    "class MNISTModel(LightningModule):\n",
    "    def __init__(self):\n",
    "        super().__init__()\n",
    "        self.l1 = torch.nn.Linear(28 * 28, 10)\n",
    "        self.l2 = torch.nn.Linear(10, 10)\n",
    "\n",
    "    def forward(self, x):\n",
    "        return torch.relu(self.l2(torch.relu(self.l1(x.view(x.size(0), -1)))))\n",
    "\n",
    "    def training_step(self, batch, batch_nb):\n",
    "        x, y = batch\n",
    "        logits = self(x)\n",
    "        loss = F.cross_entropy(logits, y)\n",
    "        return loss\n",
    "\n",
    "    def validation_step(self, batch, batch_idx):\n",
    "        x, y = batch\n",
    "        logits = self(x)\n",
    "        prediction = torch.argmax(logits, dim=1)[0].item()\n",
    "\n",
    "        link = f'https://s3.amazonaws.com/static.nomic.ai/mnist/eval/{y}/{batch_idx}.jpg'\n",
    "        metadata = {'label': y, 'prediction': prediction, 'url': link}\n",
    "\n",
    "        self.atlas.log(embeddings=logits, metadata=metadata)\n",
    "\n",
    "    def configure_optimizers(self):\n",
    "        return torch.optim.Adam(self.parameters(), lr=0.02)"
   ]
  },
  {
   "cell_type": "markdown",
   "metadata": {},
   "source": [
    "## Training the model"
   ]
  },
  {
   "cell_type": "code",
   "execution_count": null,
   "metadata": {
    "pycharm": {
     "is_executing": true
    }
   },
   "outputs": [],
   "source": [
    "mnist_model = MNISTModel()\n",
    "\n",
    "# Init DataLoader from MNIST Dataset\n",
    "train_ds = MNIST(PATH_DATASETS, train=True, download=True, transform=transforms.ToTensor())\n",
    "test_ds = MNIST(PATH_DATASETS, train=False, download=True, transform=transforms.ToTensor())\n",
    "train_loader = DataLoader(train_ds, batch_size=BATCH_SIZE)\n",
    "\n",
    "# Initialize a trainer\n",
    "max_epochs = 10\n",
    "\n",
    "# Initialize the Embedding Explorer 🗺️ hook\n",
    "embedding_explorer = AtlasEmbeddingExplorer(max_points=20_000,\n",
    "                                            name=\"MNIST Validation Latent Space\",\n",
    "                                            description=\"MNIST Validation Latent Space\",\n",
    "                                            overwrite_on_validation=True)\n",
    "trainer = Trainer(\n",
    "    accelerator=\"auto\",\n",
    "    devices=1 if torch.cuda.is_available() else None,\n",
    "    max_epochs=max_epochs,\n",
    "    callbacks=[TQDMProgressBar(refresh_rate=20),\n",
    "               embedding_explorer],\n",
    ")\n",
    "\n",
    "# Train the model ⚡\n",
    "trainer.fit(mnist_model, train_loader)\n"
   ]
  },
  {
   "cell_type": "markdown",
   "metadata": {},
   "source": [
    "## Validate the model and log the embeddings"
   ]
  },
  {
   "cell_type": "code",
   "execution_count": 5,
   "metadata": {},
   "outputs": [
    {
     "name": "stderr",
     "output_type": "stream",
     "text": [
      "LOCAL_RANK: 0 - CUDA_VISIBLE_DEVICES: [0]\n"
     ]
    },
    {
     "data": {
      "application/json": {
       "ascii": false,
       "bar_format": null,
       "colour": null,
       "elapsed": 0.00400233268737793,
       "initial": 0,
       "n": 0,
       "ncols": null,
       "nrows": null,
       "postfix": null,
       "prefix": "Validation",
       "rate": null,
       "total": null,
       "unit": "it",
       "unit_divisor": 1000,
       "unit_scale": false
      },
      "application/vnd.jupyter.widget-view+json": {
       "model_id": "aa6abc0fae9d4ca6939ed8d6884e9048",
       "version_major": 2,
       "version_minor": 0
      },
      "text/plain": [
       "Validation: 0it [00:00, ?it/s]"
      ]
     },
     "metadata": {},
     "output_type": "display_data"
    },
    {
     "name": "stderr",
     "output_type": "stream",
     "text": [
      "2023-03-14 10:53:03.504 | INFO     | nomic.project:_create_project:946 - Creating project `MNIST Validation Latent Space` in organization `Atlas Demo`\n",
      "2023-03-14 10:53:04.977 | INFO     | nomic.atlas:map_embeddings:98 - Uploading embeddings to Atlas.\n",
      "100%|██████████| 10/10 [00:03<00:00,  3.10it/s]\n",
      "2023-03-14 10:53:08.206 | INFO     | nomic.atlas:map_embeddings:117 - Embedding upload succeeded.\n",
      "2023-03-14 10:53:09.863 | INFO     | nomic.project:create_index:1259 - Created map `MNIST Validation Latent Space` in project `MNIST Validation Latent Space`: https://atlas.nomic.ai/map/5c920000-f861-400e-ae04-9401d54c2633/41b407d8-ba49-4e8c-83ed-a943ed9bed0b\n",
      "2023-03-14 10:53:09.864 | INFO     | nomic.atlas:map_embeddings:130 - MNIST Validation Latent Space: https://atlas.nomic.ai/map/5c920000-f861-400e-ae04-9401d54c2633/41b407d8-ba49-4e8c-83ed-a943ed9bed0b\n"
     ]
    },
    {
     "data": {
      "text/plain": [
       "[{}]"
      ]
     },
     "execution_count": 5,
     "metadata": {},
     "output_type": "execute_result"
    }
   ],
   "source": [
    "trainer.validate(mnist_model, test_ds)"
   ]
  },
  {
   "cell_type": "markdown",
   "metadata": {},
   "source": [
    "## View the map"
   ]
  },
  {
   "cell_type": "code",
   "execution_count": 7,
   "metadata": {},
   "outputs": [
    {
     "data": {
      "text/plain": "MNIST Validation Latent Space: https://atlas.nomic.ai/map/5c920000-f861-400e-ae04-9401d54c2633/41b407d8-ba49-4e8c-83ed-a943ed9bed0b",
      "text/html": "\n            <h3>Project: MNIST Validation Latent Space</h3>\n            <script>\n            destroy = function() {\n                document.getElementById(\"iframe41b407d8-ba49-4e8c-83ed-a943ed9bed0b\").remove()\n            }\n        </script>\n\n        <h4>Projection ID: 41b407d8-ba49-4e8c-83ed-a943ed9bed0b</h4>\n        <div class=\"actions\">\n            <div id=\"hide\" class=\"action\" onclick=\"destroy()\">Hide embedded project</div>\n            <div class=\"action\" id=\"out\">\n                <a href=\"https://atlas.nomic.ai/map/5c920000-f861-400e-ae04-9401d54c2633/41b407d8-ba49-4e8c-83ed-a943ed9bed0b\" target=\"_blank\">Explore on atlas.nomic.ai</a>\n            </div>\n        </div>\n        \n        <iframe class=\"iframe\" id=\"iframe41b407d8-ba49-4e8c-83ed-a943ed9bed0b\" allow=\"clipboard-read; clipboard-write\" src=\"https://atlas.nomic.ai/map/5c920000-f861-400e-ae04-9401d54c2633/41b407d8-ba49-4e8c-83ed-a943ed9bed0b\">\n        </iframe>\n\n        <style>\n            .iframe {\n                /* vh can be **very** large in vscode ipynb. */\n                height: min(75vh, 66vw);\n                width: 100%;\n            }\n        </style>\n        \n        <style>\n            .actions {\n              display: block;\n            }\n            .action {\n              min-height: 18px;\n              margin: 5px;\n              transition: all 500ms ease-in-out;\n            }\n            .action:hover {\n              cursor: pointer;\n            }\n            #hide:hover::after {\n                content: \" X\";\n            }\n            #out:hover::after {\n                content: \"\";\n            }\n        </style>\n        \n            "
     },
     "execution_count": 7,
     "metadata": {},
     "output_type": "execute_result"
    }
   ],
   "source": [
    "embedding_explorer.map"
   ]
  },
  {
   "cell_type": "code",
   "execution_count": null,
   "outputs": [],
   "source": [],
   "metadata": {
    "collapsed": false
   }
  }
 ],
 "metadata": {
  "kernelspec": {
   "display_name": "Python 3 (ipykernel)",
   "language": "python",
   "name": "python3"
  },
  "language_info": {
   "codemirror_mode": {
    "name": "ipython",
    "version": 3
   },
   "file_extension": ".py",
   "mimetype": "text/x-python",
   "name": "python",
   "nbconvert_exporter": "python",
   "pygments_lexer": "ipython3",
   "version": "3.8.10"
  }
 },
 "nbformat": 4,
 "nbformat_minor": 1
}
