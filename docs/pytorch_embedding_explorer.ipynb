{
 "cells": [
  {
   "cell_type": "markdown",
   "metadata": {},
   "source": [
    "# Exploring a Pytorch Models Latent Space\n",
    "Atlas can be used to better understand your deep neural nets training and test characteristics.\n",
    "By interacting with your models embeddings (logits) during training and evaluation you can:\n",
    "- Identify which classes, targets or concepts your model has ease/difficulty learning.\n",
    "- Identify mislabeled datapoints.\n",
    "- Spot bugs/errors in your model implementation.\n",
    "\n",
    "Atlas has a Pytorch Lightning hook that you can plug straight into your pytorch lightning training scripts.\n",
    "This tutorial will take you through using it to visualize the training of a two layer neural network on MNIST."
   ]
  },
  {
   "cell_type": "code",
   "execution_count": 1,
   "metadata": {},
   "outputs": [
    {
     "name": "stdout",
     "output_type": "stream",
     "text": [
      "Requirement already satisfied: pytorch-lightning in /home/andriy/PycharmProjects/nomic/nomic/env/lib/python3.8/site-packages (1.9.4)\n",
      "Requirement already satisfied: torch in /home/andriy/PycharmProjects/nomic/nomic/env/lib/python3.8/site-packages (1.13.1)\n",
      "Requirement already satisfied: torchvision in /home/andriy/PycharmProjects/nomic/nomic/env/lib/python3.8/site-packages (0.14.1)\n",
      "Requirement already satisfied: torchmetrics in /home/andriy/PycharmProjects/nomic/nomic/env/lib/python3.8/site-packages (0.11.4)\n",
      "Requirement already satisfied: tqdm>=4.57.0 in /home/andriy/PycharmProjects/nomic/nomic/env/lib/python3.8/site-packages (from pytorch-lightning) (4.64.1)\n",
      "Requirement already satisfied: lightning-utilities>=0.6.0.post0 in /home/andriy/PycharmProjects/nomic/nomic/env/lib/python3.8/site-packages (from pytorch-lightning) (0.8.0)\n",
      "Requirement already satisfied: fsspec[http]>2021.06.0 in /home/andriy/PycharmProjects/nomic/nomic/env/lib/python3.8/site-packages (from pytorch-lightning) (2022.5.0)\n",
      "Requirement already satisfied: numpy>=1.17.2 in /home/andriy/PycharmProjects/nomic/nomic/env/lib/python3.8/site-packages (from pytorch-lightning) (1.23.1)\n",
      "Requirement already satisfied: typing-extensions>=4.0.0 in /home/andriy/PycharmProjects/nomic/nomic/env/lib/python3.8/site-packages (from pytorch-lightning) (4.3.0)\n",
      "Requirement already satisfied: PyYAML>=5.4 in /home/andriy/PycharmProjects/nomic/nomic/env/lib/python3.8/site-packages (from pytorch-lightning) (6.0)\n",
      "Requirement already satisfied: packaging>=17.1 in /home/andriy/PycharmProjects/nomic/nomic/env/lib/python3.8/site-packages (from pytorch-lightning) (21.3)\n",
      "Requirement already satisfied: nvidia-cublas-cu11==11.10.3.66 in /home/andriy/PycharmProjects/nomic/nomic/env/lib/python3.8/site-packages (from torch) (11.10.3.66)\n",
      "Requirement already satisfied: nvidia-cuda-nvrtc-cu11==11.7.99 in /home/andriy/PycharmProjects/nomic/nomic/env/lib/python3.8/site-packages (from torch) (11.7.99)\n",
      "Requirement already satisfied: nvidia-cuda-runtime-cu11==11.7.99 in /home/andriy/PycharmProjects/nomic/nomic/env/lib/python3.8/site-packages (from torch) (11.7.99)\n",
      "Requirement already satisfied: nvidia-cudnn-cu11==8.5.0.96 in /home/andriy/PycharmProjects/nomic/nomic/env/lib/python3.8/site-packages (from torch) (8.5.0.96)\n",
      "Requirement already satisfied: wheel in /home/andriy/PycharmProjects/nomic/nomic/env/lib/python3.8/site-packages (from nvidia-cublas-cu11==11.10.3.66->torch) (0.38.4)\n",
      "Requirement already satisfied: setuptools in /home/andriy/PycharmProjects/nomic/nomic/env/lib/python3.8/site-packages (from nvidia-cublas-cu11==11.10.3.66->torch) (49.6.0)\n",
      "Requirement already satisfied: requests in /home/andriy/PycharmProjects/nomic/nomic/env/lib/python3.8/site-packages (from torchvision) (2.28.1)\n",
      "Requirement already satisfied: pillow!=8.3.*,>=5.3.0 in /home/andriy/PycharmProjects/nomic/nomic/env/lib/python3.8/site-packages (from torchvision) (9.4.0)\n",
      "Requirement already satisfied: aiohttp in /home/andriy/PycharmProjects/nomic/nomic/env/lib/python3.8/site-packages (from fsspec[http]>2021.06.0->pytorch-lightning) (3.8.1)\n",
      "Requirement already satisfied: pyparsing!=3.0.5,>=2.0.2 in /home/andriy/PycharmProjects/nomic/nomic/env/lib/python3.8/site-packages (from packaging>=17.1->pytorch-lightning) (3.0.9)\n",
      "Requirement already satisfied: charset-normalizer<3,>=2 in /home/andriy/PycharmProjects/nomic/nomic/env/lib/python3.8/site-packages (from requests->torchvision) (2.1.0)\n",
      "Requirement already satisfied: certifi>=2017.4.17 in /home/andriy/PycharmProjects/nomic/nomic/env/lib/python3.8/site-packages (from requests->torchvision) (2022.6.15)\n",
      "Requirement already satisfied: urllib3<1.27,>=1.21.1 in /home/andriy/PycharmProjects/nomic/nomic/env/lib/python3.8/site-packages (from requests->torchvision) (1.26.13)\n",
      "Requirement already satisfied: idna<4,>=2.5 in /home/andriy/PycharmProjects/nomic/nomic/env/lib/python3.8/site-packages (from requests->torchvision) (2.8)\n",
      "Requirement already satisfied: attrs>=17.3.0 in /home/andriy/PycharmProjects/nomic/nomic/env/lib/python3.8/site-packages (from aiohttp->fsspec[http]>2021.06.0->pytorch-lightning) (21.4.0)\n",
      "Requirement already satisfied: yarl<2.0,>=1.0 in /home/andriy/PycharmProjects/nomic/nomic/env/lib/python3.8/site-packages (from aiohttp->fsspec[http]>2021.06.0->pytorch-lightning) (1.7.2)\n",
      "Requirement already satisfied: async-timeout<5.0,>=4.0.0a3 in /home/andriy/PycharmProjects/nomic/nomic/env/lib/python3.8/site-packages (from aiohttp->fsspec[http]>2021.06.0->pytorch-lightning) (4.0.2)\n",
      "Requirement already satisfied: frozenlist>=1.1.1 in /home/andriy/PycharmProjects/nomic/nomic/env/lib/python3.8/site-packages (from aiohttp->fsspec[http]>2021.06.0->pytorch-lightning) (1.3.0)\n",
      "Requirement already satisfied: multidict<7.0,>=4.5 in /home/andriy/PycharmProjects/nomic/nomic/env/lib/python3.8/site-packages (from aiohttp->fsspec[http]>2021.06.0->pytorch-lightning) (6.0.2)\n",
      "Requirement already satisfied: aiosignal>=1.1.2 in /home/andriy/PycharmProjects/nomic/nomic/env/lib/python3.8/site-packages (from aiohttp->fsspec[http]>2021.06.0->pytorch-lightning) (1.2.0)\n"
     ]
    }
   ],
   "source": [
    "!pip install pytorch-lightning torch torchvision torchmetrics"
   ]
  },
  {
   "cell_type": "code",
   "execution_count": 2,
   "metadata": {},
   "outputs": [
    {
     "data": {
      "text/plain": [
       "<torch._C.Generator at 0x7f155c63f1f0>"
      ]
     },
     "execution_count": 2,
     "metadata": {},
     "output_type": "execute_result"
    }
   ],
   "source": [
    "import os\n",
    "import torch\n",
    "from pytorch_lightning import LightningModule, Trainer\n",
    "from pytorch_lightning.callbacks.progress import TQDMProgressBar\n",
    "from torch.nn import functional as F\n",
    "from torch.utils.data import DataLoader, random_split\n",
    "from torchvision import transforms\n",
    "from torchvision.datasets import MNIST\n",
    "import torchmetrics\n",
    "from nomic.pl_callbacks import AtlasEmbeddingExplorer\n",
    "import nomic\n",
    "\n",
    "PATH_DATASETS = os.environ.get(\"PATH_DATASETS\", \".\")\n",
    "BATCH_SIZE = 256 if torch.cuda.is_available() else 64\n",
    "torch.manual_seed(0)\n",
    "# nomic.login()\n"
   ]
  },
  {
   "cell_type": "markdown",
   "metadata": {},
   "source": [
    "# The Lightning Module"
   ]
  },
  {
   "cell_type": "code",
   "execution_count": 3,
   "metadata": {},
   "outputs": [],
   "source": [
    "\n",
    "class MNISTModel(LightningModule):\n",
    "    def __init__(self):\n",
    "        super().__init__()\n",
    "        self.l1 = torch.nn.Linear(28 * 28, 10)\n",
    "        self.l2 = torch.nn.Linear(10, 10)\n",
    "\n",
    "    def forward(self, x):\n",
    "        return torch.relu(self.l2(torch.relu(self.l1(x.view(x.size(0), -1)))))\n",
    "\n",
    "    def training_step(self, batch, batch_nb):\n",
    "        x, y = batch\n",
    "        logits = self(x)\n",
    "        loss = F.cross_entropy(logits, y)\n",
    "        return loss\n",
    "\n",
    "    def validation_step(self, batch, batch_idx):\n",
    "        x, y = batch\n",
    "        logits = self(x)\n",
    "        prediction = torch.argmax(logits, dim=1)[0].item()\n",
    "\n",
    "        link = f'https://s3.amazonaws.com/static.nomic.ai/mnist/eval/{y}/{batch_idx}.jpg'\n",
    "        metadata = {'label': y, 'prediction': prediction, 'fetched_datum_image_resource_url': link}\n",
    "\n",
    "        self.atlas.log(embeddings=logits, metadata=metadata)\n",
    "\n",
    "    def configure_optimizers(self):\n",
    "        return torch.optim.Adam(self.parameters(), lr=0.02)"
   ]
  },
  {
   "cell_type": "markdown",
   "metadata": {},
   "source": [
    "## Training the model"
   ]
  },
  {
   "cell_type": "code",
   "execution_count": 4,
   "metadata": {},
   "outputs": [
    {
     "name": "stderr",
     "output_type": "stream",
     "text": [
      "GPU available: True (cuda), used: True\n",
      "TPU available: False, using: 0 TPU cores\n",
      "IPU available: False, using: 0 IPUs\n",
      "HPU available: False, using: 0 HPUs\n",
      "/home/andriy/.local/lib/python3.8/site-packages/pytorch_lightning/trainer/connectors/logger_connector/logger_connector.py:67: UserWarning: Starting from v1.9.0, `tensorboardX` has been removed as a dependency of the `pytorch_lightning` package, due to potential conflicts with other packages in the ML ecosystem. For this reason, `logger=True` will use `CSVLogger` as the default logger, unless the `tensorboard` or `tensorboardX` packages are found. Please `pip install lightning[extra]` or one of them to enable TensorBoard support by default\n",
      "  warning_cache.warn(\n",
      "/home/andriy/.local/lib/python3.8/site-packages/pytorch_lightning/trainer/configuration_validator.py:108: PossibleUserWarning: You defined a `validation_step` but have no `val_dataloader`. Skipping val loop.\n",
      "  rank_zero_warn(\n",
      "LOCAL_RANK: 0 - CUDA_VISIBLE_DEVICES: [0]\n",
      "\n",
      "  | Name     | Type               | Params\n",
      "------------------------------------------------\n",
      "0 | l1       | Linear             | 7.9 K \n",
      "1 | l2       | Linear             | 110   \n",
      "2 | accuracy | MulticlassAccuracy | 0     \n",
      "------------------------------------------------\n",
      "8.0 K     Trainable params\n",
      "0         Non-trainable params\n",
      "8.0 K     Total params\n",
      "0.032     Total estimated model params size (MB)\n",
      "/home/andriy/.local/lib/python3.8/site-packages/pytorch_lightning/trainer/connectors/data_connector.py:224: PossibleUserWarning: The dataloader, train_dataloader, does not have many workers which may be a bottleneck. Consider increasing the value of the `num_workers` argument` (try 16 which is the number of cpus on this machine) in the `DataLoader` init to improve performance.\n",
      "  rank_zero_warn(\n"
     ]
    },
    {
     "data": {
      "application/json": {
       "ascii": false,
       "bar_format": null,
       "colour": null,
       "elapsed": 0.004001617431640625,
       "initial": 0,
       "n": 0,
       "ncols": null,
       "nrows": null,
       "postfix": null,
       "prefix": "Training",
       "rate": null,
       "total": null,
       "unit": "it",
       "unit_divisor": 1000,
       "unit_scale": false
      },
      "application/vnd.jupyter.widget-view+json": {
       "model_id": "09ebdf68ae344c608165bd7b2a344387",
       "version_major": 2,
       "version_minor": 0
      },
      "text/plain": [
       "Training: 0it [00:00, ?it/s]"
      ]
     },
     "metadata": {},
     "output_type": "display_data"
    },
    {
     "name": "stderr",
     "output_type": "stream",
     "text": [
      "`Trainer.fit` stopped: `max_epochs=10` reached.\n"
     ]
    }
   ],
   "source": [
    "mnist_model = MNISTModel()\n",
    "\n",
    "# Init DataLoader from MNIST Dataset\n",
    "train_ds = MNIST(PATH_DATASETS, train=True, download=True, transform=transforms.ToTensor())\n",
    "test_ds = MNIST(PATH_DATASETS, train=False, download=True, transform=transforms.ToTensor())\n",
    "train_loader = DataLoader(train_ds, batch_size=BATCH_SIZE)\n",
    "\n",
    "# Initialize a trainer\n",
    "max_epochs = 10\n",
    "\n",
    "# Initialize the Embedding Explorer 🗺️ hook\n",
    "embedding_explorer = AtlasEmbeddingExplorer(max_points=20_000,\n",
    "                                            name=\"MNIST Validation Latent Space\",\n",
    "                                            description=\"MNIST Validation Latent Space\",\n",
    "                                            overwrite=True)\n",
    "trainer = Trainer(\n",
    "    accelerator=\"auto\",\n",
    "    devices=1 if torch.cuda.is_available() else None,\n",
    "    max_epochs=max_epochs,\n",
    "    callbacks=[TQDMProgressBar(refresh_rate=20),\n",
    "               embedding_explorer],\n",
    ")\n",
    "\n",
    "# Train the model ⚡\n",
    "trainer.fit(mnist_model, train_loader)\n"
   ]
  },
  {
   "cell_type": "markdown",
   "metadata": {},
   "source": [
    "## Validate the model and log the embeddings"
   ]
  },
  {
   "cell_type": "code",
   "execution_count": 5,
   "metadata": {},
   "outputs": [
    {
     "name": "stderr",
     "output_type": "stream",
     "text": [
      "LOCAL_RANK: 0 - CUDA_VISIBLE_DEVICES: [0]\n"
     ]
    },
    {
     "data": {
      "application/json": {
       "ascii": false,
       "bar_format": null,
       "colour": null,
       "elapsed": 0.004784822463989258,
       "initial": 0,
       "n": 0,
       "ncols": null,
       "nrows": null,
       "postfix": null,
       "prefix": "Validation",
       "rate": null,
       "total": null,
       "unit": "it",
       "unit_divisor": 1000,
       "unit_scale": false
      },
      "application/vnd.jupyter.widget-view+json": {
       "model_id": "9a00de71aab14e64b2eec5d668ad8ebe",
       "version_major": 2,
       "version_minor": 0
      },
      "text/plain": [
       "Validation: 0it [00:00, ?it/s]"
      ]
     },
     "metadata": {},
     "output_type": "display_data"
    },
    {
     "name": "stderr",
     "output_type": "stream",
     "text": [
      "2023-03-14 00:14:57.969 | INFO     | nomic.project:__init__:856 - Found existing project `MNIST Validation Latent Space` in organization `andriy`. Clearing it of data by request.\n",
      "2023-03-14 00:14:58.788 | INFO     | nomic.project:_create_project:946 - Creating project `MNIST Validation Latent Space` in organization `andriy`\n",
      "2023-03-14 00:14:59.620 | INFO     | nomic.atlas:map_embeddings:98 - Uploading embeddings to Atlas.\n",
      "100%|██████████| 10/10 [00:01<00:00,  6.16it/s]\n",
      "2023-03-14 00:15:01.252 | INFO     | nomic.atlas:map_embeddings:117 - Embedding upload succeeded.\n",
      "2023-03-14 00:15:02.181 | INFO     | nomic.project:create_index:1259 - Created map `MNIST Validation Latent Space` in project `MNIST Validation Latent Space`: https://staging-atlas.nomic.ai/map/ca7de2b6-d039-4357-a8f8-52acde7eb804/64f90fe2-1f8c-48ed-83b8-1a5594914b99\n",
      "2023-03-14 00:15:02.183 | INFO     | nomic.atlas:map_embeddings:130 - MNIST Validation Latent Space: https://staging-atlas.nomic.ai/map/ca7de2b6-d039-4357-a8f8-52acde7eb804/64f90fe2-1f8c-48ed-83b8-1a5594914b99\n"
     ]
    },
    {
     "name": "stdout",
     "output_type": "stream",
     "text": [
      "[{}]\n"
     ]
    }
   ],
   "source": [
    "trainer.validate(mnist_model, test_ds)"
   ]
  },
  {
   "cell_type": "markdown",
   "metadata": {},
   "source": [
    "## View the map"
   ]
  },
  {
   "cell_type": "code",
   "execution_count": 6,
   "metadata": {},
   "outputs": [
    {
     "data": {
      "text/html": [
       "Atlas Projection MNIST Validation Latent Space. Status Projecting. <a target=\"_blank\" href=\"https://staging-atlas.nomic.ai/map/ca7de2b6-d039-4357-a8f8-52acde7eb804/64f90fe2-1f8c-48ed-83b8-1a5594914b99\">view online</a>"
      ],
      "text/plain": [
       "MNIST Validation Latent Space: https://staging-atlas.nomic.ai/map/ca7de2b6-d039-4357-a8f8-52acde7eb804/64f90fe2-1f8c-48ed-83b8-1a5594914b99"
      ]
     },
     "execution_count": 6,
     "metadata": {},
     "output_type": "execute_result"
    }
   ],
   "source": [
    "embedding_explorer.map"
   ]
  },
  {
   "cell_type": "code",
   "execution_count": null,
   "metadata": {},
   "outputs": [],
   "source": []
  },
  {
   "cell_type": "code",
   "execution_count": null,
   "metadata": {},
   "outputs": [],
   "source": []
  }
 ],
 "metadata": {
  "kernelspec": {
   "display_name": "Python 3 (ipykernel)",
   "language": "python",
   "name": "python3"
  },
  "language_info": {
   "codemirror_mode": {
    "name": "ipython",
    "version": 3
   },
   "file_extension": ".py",
   "mimetype": "text/x-python",
   "name": "python",
   "nbconvert_exporter": "python",
   "pygments_lexer": "ipython3",
   "version": "3.8.10"
  }
 },
 "nbformat": 4,
 "nbformat_minor": 1
}
