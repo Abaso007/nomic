{
 "cells": [
  {
   "cell_type": "code",
   "execution_count": 1,
   "metadata": {},
   "outputs": [],
   "source": [
    "%load_ext autoreload\n",
    "%autoreload 2"
   ]
  },
  {
   "cell_type": "code",
   "execution_count": 2,
   "metadata": {},
   "outputs": [],
   "source": [
    "project_id = 'f0a09cd5-a110-4d74-9d00-d2aef3148c21'"
   ]
  },
  {
   "cell_type": "code",
   "execution_count": 3,
   "metadata": {},
   "outputs": [],
   "source": [
    "from nomic import AtlasProject\n"
   ]
  },
  {
   "cell_type": "code",
   "execution_count": 4,
   "metadata": {},
   "outputs": [
    {
     "ename": "AttributeError",
     "evalue": "can't set attribute",
     "output_type": "error",
     "traceback": [
      "\u001B[0;31m---------------------------------------------------------------------------\u001B[0m",
      "\u001B[0;31mAttributeError\u001B[0m                            Traceback (most recent call last)",
      "Cell \u001B[0;32mIn [4], line 1\u001B[0m\n\u001B[0;32m----> 1\u001B[0m p \u001B[39m=\u001B[39m AtlasProject(project_id\u001B[39m=\u001B[39;49mproject_id)\n",
      "File \u001B[0;32m~/nomic/nomic/project.py:51\u001B[0m, in \u001B[0;36mAtlasProject.__init__\u001B[0;34m(self, name, description, unique_id_field, modality, organization_name, is_public, project_id)\u001B[0m\n\u001B[1;32m     31\u001B[0m \u001B[39m\"\"\"\u001B[39;00m\n\u001B[1;32m     32\u001B[0m \u001B[39mCreates or loads an Atlas project.\u001B[39;00m\n\u001B[1;32m     33\u001B[0m \u001B[39mAtlas projects store data (text, embeddings, etc) that you can organize by building indices.\u001B[39;00m\n\u001B[0;32m   (...)\u001B[0m\n\u001B[1;32m     47\u001B[0m \n\u001B[1;32m     48\u001B[0m \u001B[39m\"\"\"\u001B[39;00m\n\u001B[1;32m     49\u001B[0m \u001B[39massert\u001B[39;00m name \u001B[39mis\u001B[39;00m \u001B[39mnot\u001B[39;00m \u001B[39mNone\u001B[39;00m \u001B[39mor\u001B[39;00m project_id \u001B[39mis\u001B[39;00m \u001B[39mnot\u001B[39;00m \u001B[39mNone\u001B[39;00m, \u001B[39m\"\u001B[39m\u001B[39mYou must pass a name or project_id\u001B[39m\u001B[39m\"\u001B[39m\n\u001B[0;32m---> 51\u001B[0m \u001B[39msuper\u001B[39;49m()\u001B[39m.\u001B[39;49m\u001B[39m__init__\u001B[39;49m()\n\u001B[1;32m     53\u001B[0m \u001B[39mif\u001B[39;00m project_id \u001B[39mis\u001B[39;00m \u001B[39mnot\u001B[39;00m \u001B[39mNone\u001B[39;00m:\n\u001B[1;32m     54\u001B[0m   \u001B[39mself\u001B[39m\u001B[39m.\u001B[39mmeta \u001B[39m=\u001B[39m \u001B[39mself\u001B[39m\u001B[39m.\u001B[39m_get_project_by_id(project_id) \n",
      "File \u001B[0;32m~/nomic/nomic/atlas.py:98\u001B[0m, in \u001B[0;36mAtlasClass.__init__\u001B[0;34m(self)\u001B[0m\n\u001B[1;32m     96\u001B[0m \u001B[39mself\u001B[39m\u001B[39m.\u001B[39matlas_api_path \u001B[39m=\u001B[39m \u001B[39mf\u001B[39m\u001B[39m\"\u001B[39m\u001B[39mhttps://\u001B[39m\u001B[39m{\u001B[39;00mhostname\u001B[39m}\u001B[39;00m\u001B[39m\"\u001B[39m\n\u001B[1;32m     97\u001B[0m \u001B[39mself\u001B[39m\u001B[39m.\u001B[39mtoken \u001B[39m=\u001B[39m \u001B[39mself\u001B[39m\u001B[39m.\u001B[39mcredentials[\u001B[39m'\u001B[39m\u001B[39mtoken\u001B[39m\u001B[39m'\u001B[39m]\n\u001B[0;32m---> 98\u001B[0m \u001B[39mself\u001B[39m\u001B[39m.\u001B[39mheader \u001B[39m=\u001B[39m {\u001B[39m\"\u001B[39m\u001B[39mAuthorization\u001B[39m\u001B[39m\"\u001B[39m: \u001B[39mf\u001B[39m\u001B[39m\"\u001B[39m\u001B[39mBearer \u001B[39m\u001B[39m{\u001B[39;00m\u001B[39mself\u001B[39m\u001B[39m.\u001B[39mtoken\u001B[39m}\u001B[39;00m\u001B[39m\"\u001B[39m}\n\u001B[1;32m    100\u001B[0m \u001B[39mif\u001B[39;00m \u001B[39mself\u001B[39m\u001B[39m.\u001B[39mtoken:\n\u001B[1;32m    101\u001B[0m     response \u001B[39m=\u001B[39m requests\u001B[39m.\u001B[39mget(\n\u001B[1;32m    102\u001B[0m         \u001B[39mself\u001B[39m\u001B[39m.\u001B[39matlas_api_path \u001B[39m+\u001B[39m \u001B[39m\"\u001B[39m\u001B[39m/v1/user\u001B[39m\u001B[39m\"\u001B[39m,\n\u001B[1;32m    103\u001B[0m         headers\u001B[39m=\u001B[39m\u001B[39mself\u001B[39m\u001B[39m.\u001B[39mheader,\n\u001B[1;32m    104\u001B[0m     )\n",
      "\u001B[0;31mAttributeError\u001B[0m: can't set attribute"
     ]
    }
   ],
   "source": [
    "p = AtlasProject(project_id=project_id)"
   ]
  },
  {
   "cell_type": "code",
   "execution_count": null,
   "metadata": {},
   "outputs": [],
   "source": []
  }
 ],
 "metadata": {
  "kernelspec": {
   "display_name": "nomic",
   "language": "python",
   "name": "python3"
  },
  "language_info": {
   "codemirror_mode": {
    "name": "ipython",
    "version": 3
   },
   "file_extension": ".py",
   "mimetype": "text/x-python",
   "name": "python",
   "nbconvert_exporter": "python",
   "pygments_lexer": "ipython3",
   "version": "3.9.15 (main, Nov  4 2022, 11:12:28) \n[Clang 12.0.0 ]"
  },
  "orig_nbformat": 4,
  "vscode": {
   "interpreter": {
    "hash": "63266a9622ac5580a9a02b2f94ecbd5b9636f0c29ec0b77ad77b64b999ca2a3a"
   }
  }
 },
 "nbformat": 4,
 "nbformat_minor": 2
}
