{
 "cells": [
  {
   "attachments": {},
   "cell_type": "markdown",
   "metadata": {},
   "source": [
    "# GPT4All in Python\n",
    "\n",
    "To run GPT4All on your computer, install the [nomic](https://home.nomic.ai) package:\n",
    "\n",
    "```bash\n",
    "pip install nomic\n",
    "```\n",
    "\n",
    "There are two ways to interact with GPT4All. You can simply call `gpt4all.prompt` to get a one-off response:\n",
    "or to have an extended conversation you can enter a context manager."
   ]
  },
  {
   "cell_type": "code",
   "execution_count": 3,
   "metadata": {},
   "outputs": [
    {
     "name": "stderr",
     "output_type": "stream",
     "text": [
      "llama_model_load: ggml ctx size = 6065.35 MB\n",
      "llama_model_load: memory_size =  2048.00 MB, n_mem = 65536\n",
      "llama_model_load: loading model part 1/1 from '/Users/ben/.nomic/gpt4all-lora-quantized.bin'\n",
      "llama_model_load: .................................... done\n",
      "llama_model_load: model size =  4017.27 MB / num tensors = 291\n",
      "2023-03-30 10:20:58.601 | DEBUG    | nomic.gpt4all.gpt4all:__exit__:72 - Ending session...\n"
     ]
    },
    {
     "data": {
      "text/plain": [
       "\" Once upon a time there was a little brown rabbit named Bunnie Rabbit. One day she came across an adorably cute black-and-white polar bear cub, and they became best of buddies! They played together all the time until one fateful night when Bunnie's dad found them playing in his garden...\""
      ]
     },
     "execution_count": 3,
     "metadata": {},
     "output_type": "execute_result"
    }
   ],
   "source": [
    "import nomic.gpt4all as gpt4all\n",
    "\n",
    "gpt4all.prompt(\"Tell me a story about a bear who becomes friends with a bunny.\")"
   ]
  },
  {
   "attachments": {},
   "cell_type": "markdown",
   "metadata": {},
   "source": [
    "## Running in a session\n",
    "\n",
    "A preferred way to run is inside a context manager. This allows a sustained conversion with the model that looks at\n",
    "previous responses."
   ]
  },
  {
   "cell_type": "code",
   "execution_count": null,
   "metadata": {},
   "outputs": [],
   "source": [
    "with gpt4all.GPT4All() as session:\n",
    "    prompts = [\"Hello, there. I have a couple requests.\", \"First: tell me a joke.\", \"What's the largest city in the United States\"]\n",
    "    for prompt in prompts:\n",
    "        print(\"------PROMPT-------\\n\" + prompt)\n",
    "        response = session.prompt(prompt)\n",
    "        print(\"-----RESPONSE------\\n\" + response)"
   ]
  },
  {
   "cell_type": "code",
   "execution_count": null,
   "metadata": {},
   "outputs": [],
   "source": []
  },
  {
   "attachments": {},
   "cell_type": "markdown",
   "metadata": {},
   "source": [
    "You can also manually open and close a session. Be aware that a session uses a lot of memory, so you should be careful to \n",
    "close it when you are done!"
   ]
  },
  {
   "cell_type": "code",
   "execution_count": null,
   "metadata": {},
   "outputs": [],
   "source": [
    "session = gpt4all.GPT4All()\n",
    "\n",
    "session.open()\n",
    "response = session.prompt(\"How are you doing today?\")\n",
    "print(response)\n",
    "response = session.prompt(\"Oh really? Why is that?\")\n",
    "print(response)\n",
    "session.close()"
   ]
  },
  {
   "cell_type": "code",
   "execution_count": 1,
   "metadata": {},
   "outputs": [
    {
     "ename": "NameError",
     "evalue": "name 'session' is not defined",
     "output_type": "error",
     "traceback": [
      "\u001b[0;31m---------------------------------------------------------------------------\u001b[0m",
      "\u001b[0;31mNameError\u001b[0m                                 Traceback (most recent call last)",
      "\u001b[1;32m/Users/ben/nomic/examples/GPT4All.ipynb Cell 3\u001b[0m in \u001b[0;36m1\n\u001b[0;32m----> <a href='vscode-notebook-cell:/Users/ben/nomic/examples/GPT4All.ipynb#W2sZmlsZQ%3D%3D?line=0'>1</a>\u001b[0m response \u001b[39m=\u001b[39m session\u001b[39m.\u001b[39mprompt(\u001b[39m\"\u001b[39m\u001b[39mWhy did the chicken cross the road?\u001b[39m\u001b[39m\"\u001b[39m)\n",
      "\u001b[0;31mNameError\u001b[0m: name 'session' is not defined"
     ]
    }
   ],
   "source": [
    "response = session.prompt(\"Why did the chicken cross the road?\")"
   ]
  },
  {
   "cell_type": "code",
   "execution_count": null,
   "metadata": {},
   "outputs": [],
   "source": [
    "%autoreload 2\n",
    "\n",
    "from nomic import GPT4All\n",
    "from pathlib import Path\n",
    "with GPT4All() as session:\n",
    "    prompts = [\"Write python code \", \"Hello, there. I have a couple requests.\", \"First: tell me a joke.\", \"What's the largest city in the United States\"]\n",
    "    for prompt in prompts:\n",
    "        print(\"------PROMPT-------\\n\" + prompt)\n",
    "        response = session.prompt(prompt)\n",
    "        print(\"-----RESPONSE------\\n\" + response)\n"
   ]
  },
  {
   "cell_type": "code",
   "execution_count": null,
   "metadata": {},
   "outputs": [
    {
     "name": "stdout",
     "output_type": "stream",
     "text": [
      " To write Python code for printing out all integers between 1 and 10 using while loop, you can use the following syntax:\n",
      "```python\n",
      "while True : # Loop forever until user presses Ctrl+C or program crashes/exits normally.\n",
      "    print(i)# Print integer i (which is a variable).\n",
      "    5"
     ]
    },
    {
     "data": {
      "text/plain": [
       "' To write Python code for printing out all integers between 1 and 10 using while loop, you can use the following syntax:\\n```python\\nwhile True : # Loop forever until user presses Ctrl+C or program crashes/exits normally.\\n    print(i)# Print integer i (which is a variable).\\n    5'"
      ]
     },
     "execution_count": 5,
     "metadata": {},
     "output_type": "execute_result"
    }
   ],
   "source": []
  },
  {
   "cell_type": "code",
   "execution_count": null,
   "metadata": {},
   "outputs": [],
   "source": []
  }
 ],
 "metadata": {
  "kernelspec": {
   "display_name": "nomic",
   "language": "python",
   "name": "python3"
  },
  "language_info": {
   "codemirror_mode": {
    "name": "ipython",
    "version": 3
   },
   "file_extension": ".py",
   "mimetype": "text/x-python",
   "name": "python",
   "nbconvert_exporter": "python",
   "pygments_lexer": "ipython3",
   "version": "3.9.15"
  },
  "orig_nbformat": 4
 },
 "nbformat": 4,
 "nbformat_minor": 2
}
