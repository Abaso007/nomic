{
 "cells": [
  {
   "cell_type": "markdown",
   "id": "b4443d16-46ff-47a6-8da9-df8ebba4d657",
   "metadata": {},
   "source": [
    "# AWS SageMaker and nomic-embed-text-v1.5\n",
    "This notebook demos how to embed your documents using nomic-embed-text-v1.5 running on AWS SageMaker."
   ]
  },
  {
   "cell_type": "code",
   "execution_count": null,
   "id": "6c5e13f4",
   "metadata": {},
   "outputs": [],
   "source": [
    "!pip install nomic\n",
    "!pip install numpy"
   ]
  },
  {
   "cell_type": "code",
   "execution_count": 12,
   "id": "cc3b38b6-34ef-48bd-923d-938b88471873",
   "metadata": {},
   "outputs": [],
   "source": [
    "import numpy as np\n",
    "\n",
    "from nomic.aws.sagemaker import embed_texts"
   ]
  },
  {
   "cell_type": "markdown",
   "id": "98fd2183-c7e7-435b-b584-3509161a3357",
   "metadata": {},
   "source": [
    "## SageMaker Configuration\n",
    "Specify the Sagemaker endpoint you created here and the region the endpoint is hosted in."
   ]
  },
  {
   "cell_type": "code",
   "execution_count": 1,
   "id": "cf4e8007-3fa2-473b-8748-7aa4de26cb2f",
   "metadata": {},
   "outputs": [],
   "source": [
    "endpoint_name = 'nomic-embed-endpoint'\n",
    "region_name = 'us-east-2'"
   ]
  },
  {
   "cell_type": "markdown",
   "id": "0f1a6a00-6d9a-447f-805f-f4758347dbd4",
   "metadata": {},
   "source": [
    "## Real Time Inference\n",
    "Run `embed_text` for real time inference.\n",
    "The method will return a `np.float16 array`."
   ]
  },
  {
   "cell_type": "code",
   "execution_count": 2,
   "id": "9bd45a53-de0a-4a63-af40-731c218b4ea4",
   "metadata": {},
   "outputs": [],
   "source": [
    "texts = [\n",
    "    \"This is a test\", \n",
    "    \"This is another test\",\n",
    "    \"This is a third test\",\n",
    "    \"The quick brown fox jumps over the lazy dog\",\n",
    "    \"The quick brown fox jumps over the lazy dog\",\n",
    "    \"The quick brown fox jumps over the lazy dog\",\n",
    "]"
   ]
  },
  {
   "cell_type": "code",
   "execution_count": 5,
   "id": "a668e03f-9a50-4b3d-9a02-a059136af6b9",
   "metadata": {},
   "outputs": [
    {
     "name": "stderr",
     "output_type": "stream",
     "text": [
      "100%|██████████████████████████████████████████████████████████████████████████████████████████████████████████████████████████████| 1/1 [00:00<00:00,  2.93it/s]\n"
     ]
    }
   ],
   "source": [
    "response = embed_texts(texts, endpoint_name, region_name=region_name, batch_size=32)"
   ]
  },
  {
   "cell_type": "code",
   "execution_count": 9,
   "id": "3b704bd6-5951-40c3-ba26-dfdedb4a7ff1",
   "metadata": {},
   "outputs": [],
   "source": [
    "embeddings = response[\"embeddings\"]"
   ]
  },
  {
   "cell_type": "code",
   "execution_count": 13,
   "id": "d0a81001-a832-4b27-b9ec-65ec68b133e8",
   "metadata": {},
   "outputs": [
    {
     "data": {
      "text/plain": [
       "array([[ 0.03738403,  0.00876617, -0.1116333 , ..., -0.04412842,\n",
       "        -0.04345703, -0.0524292 ],\n",
       "       [ 0.03637695,  0.01615906, -0.12445068, ..., -0.04266357,\n",
       "        -0.06054688, -0.05432129],\n",
       "       [ 0.05923462,  0.02310181, -0.1315918 , ..., -0.05889893,\n",
       "        -0.03872681, -0.04345703],\n",
       "       [-0.01360321,  0.04324341, -0.16638184, ..., -0.05523682,\n",
       "        -0.07879639, -0.00566101],\n",
       "       [-0.01360321,  0.04324341, -0.16638184, ..., -0.05523682,\n",
       "        -0.07879639, -0.00566101],\n",
       "       [-0.01360321,  0.04324341, -0.16638184, ..., -0.05523682,\n",
       "        -0.07879639, -0.00566101]])"
      ]
     },
     "execution_count": 13,
     "metadata": {},
     "output_type": "execute_result"
    }
   ],
   "source": [
    "np.array(embeddings)"
   ]
  },
  {
   "cell_type": "code",
   "execution_count": null,
   "id": "4375e4a5",
   "metadata": {},
   "outputs": [],
   "source": []
  }
 ],
 "metadata": {
  "kernelspec": {
   "display_name": "atlas_env",
   "language": "python",
   "name": "atlas_env"
  },
  "language_info": {
   "codemirror_mode": {
    "name": "ipython",
    "version": 3
   },
   "file_extension": ".py",
   "mimetype": "text/x-python",
   "name": "python",
   "nbconvert_exporter": "python",
   "pygments_lexer": "ipython3",
   "version": "3.9.16"
  }
 },
 "nbformat": 4,
 "nbformat_minor": 5
}
