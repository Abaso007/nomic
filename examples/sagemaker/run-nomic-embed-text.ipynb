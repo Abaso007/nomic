{
 "cells": [
  {
   "cell_type": "markdown",
   "id": "b4443d16-46ff-47a6-8da9-df8ebba4d657",
   "metadata": {},
   "source": [
    "# AWS SageMaker and nomic-embed-text-v1.5\n",
    "This notebook demos how to embed your documents using nomic-embed-text-v1.5 running on AWS SageMaker."
   ]
  },
  {
   "cell_type": "code",
   "execution_count": null,
   "id": "6c5e13f4",
   "metadata": {
    "scrolled": true
   },
   "outputs": [],
   "source": [
    "!pip install nomic\n",
    "!pip install numpy"
   ]
  },
  {
   "cell_type": "code",
   "execution_count": null,
   "id": "cc3b38b6-34ef-48bd-923d-938b88471873",
   "metadata": {},
   "outputs": [],
   "source": [
    "import numpy as np\n",
    "\n",
    "from nomic.aws.sagemaker import embed_texts"
   ]
  },
  {
   "cell_type": "markdown",
   "id": "98fd2183-c7e7-435b-b584-3509161a3357",
   "metadata": {},
   "source": [
    "## SageMaker Configuration\n",
    "Specify the Sagemaker endpoint you created here and the region the endpoint is hosted in."
   ]
  },
  {
   "cell_type": "code",
   "execution_count": 2,
   "id": "cf4e8007-3fa2-473b-8748-7aa4de26cb2f",
   "metadata": {},
   "outputs": [],
   "source": [
    "endpoint_name = 'nomic-embed-endpoint'\n",
    "region_name = 'us-east-2'"
   ]
  },
  {
   "cell_type": "markdown",
   "id": "0f1a6a00-6d9a-447f-805f-f4758347dbd4",
   "metadata": {},
   "source": [
    "## Real Time Inference\n",
    "Run `embed_text` for real time inference.\n",
    "The method will return a nested list of floats. "
   ]
  },
  {
   "cell_type": "code",
   "execution_count": 4,
   "id": "9bd45a53-de0a-4a63-af40-731c218b4ea4",
   "metadata": {},
   "outputs": [],
   "source": [
    "texts = [\n",
    "    \"This is a test\", \n",
    "    \"This is another test\",\n",
    "    \"This is a third test\",\n",
    "    \"The quick brown fox jumps over the lazy dog\",\n",
    "    \"The quick brown fox jumps over the lazy dog\",\n",
    "    \"The quick brown fox jumps over the lazy dog\",\n",
    "]"
   ]
  },
  {
   "cell_type": "code",
   "execution_count": 18,
   "id": "a668e03f-9a50-4b3d-9a02-a059136af6b9",
   "metadata": {},
   "outputs": [
    {
     "name": "stderr",
     "output_type": "stream",
     "text": [
      "100%|█████████████████████████████████████████████████████████████████████████████████████████████████████████████| 1/1 [00:00<00:00,  6.96it/s]\n"
     ]
    },
    {
     "data": {
      "text/plain": [
       "(6, 768)"
      ]
     },
     "execution_count": 18,
     "metadata": {},
     "output_type": "execute_result"
    }
   ],
   "source": [
    "response = embed_texts(texts, endpoint_name, region_name=region_name, batch_size=32)\n",
    "embeddings = response[\"embeddings\"]\n",
    "np.array(embeddings).shape"
   ]
  },
  {
   "cell_type": "code",
   "execution_count": 19,
   "id": "4375e4a5",
   "metadata": {},
   "outputs": [
    {
     "name": "stderr",
     "output_type": "stream",
     "text": [
      "100%|█████████████████████████████████████████████████████████████████████████████████████████████████████████████| 1/1 [00:00<00:00,  6.27it/s]\n"
     ]
    },
    {
     "data": {
      "text/plain": [
       "(6, 128)"
      ]
     },
     "execution_count": 19,
     "metadata": {},
     "output_type": "execute_result"
    }
   ],
   "source": [
    "response = embed_texts(texts, endpoint_name, region_name=region_name, batch_size=32, dimensions=128)\n",
    "embeddings = response[\"embeddings\"]\n",
    "np.array(embeddings).shape"
   ]
  },
  {
   "cell_type": "code",
   "execution_count": 20,
   "id": "64072bef-4c92-425b-a6cd-c3c3ee82389a",
   "metadata": {},
   "outputs": [
    {
     "name": "stderr",
     "output_type": "stream",
     "text": [
      "100%|█████████████████████████████████████████████████████████████████████████████████████████████████████████████| 1/1 [00:00<00:00,  7.79it/s]\n"
     ]
    },
    {
     "data": {
      "text/plain": [
       "array([[1, 1, 0, ..., 0, 0, 0],\n",
       "       [1, 1, 0, ..., 0, 0, 0],\n",
       "       [1, 1, 0, ..., 0, 0, 0],\n",
       "       [0, 1, 0, ..., 0, 0, 0],\n",
       "       [0, 1, 0, ..., 0, 0, 0],\n",
       "       [0, 1, 0, ..., 0, 0, 0]])"
      ]
     },
     "execution_count": 20,
     "metadata": {},
     "output_type": "execute_result"
    }
   ],
   "source": [
    "response = embed_texts(texts, endpoint_name, region_name=region_name, batch_size=32, binary=True)\n",
    "embeddings = response[\"embeddings\"]\n",
    "np.array(embeddings)"
   ]
  },
  {
   "cell_type": "markdown",
   "id": "b29175ef",
   "metadata": {},
   "source": [
    "## Batch Transform\n",
    "\n",
    "Nomic Embed on Sagemaker also supports [batch transform jobs](https://docs.aws.amazon.com/sagemaker/latest/dg/batch-transform.html) over CSV files.\n",
    "To run batch transform, make sure your csv contains rows of single column text without headers.\n",
    "\n",
    "Optionally, in the first row, you can pass two columns: an integer value (valid options are 64, 128, 256, 512, 768) and a boolean. If the first row matches this format, these values will be treated as the dimensionality to return the embeddings in and whether to return binary embeddings or not. Otherwise, the first row will be treated as single column text as well (i.e. the first column will be cast to string and embedded).\n",
    "\n",
    "For example, a valid input csv can look like:\n",
    "\n",
    "```\n",
    "128, True\n",
    "Hello world\n",
    "Hello world\n",
    "Hello world\n",
    "```\n",
    "\n",
    "This will return three 128 dimension binary embeddings.\n",
    "\n"
   ]
  },
  {
   "cell_type": "code",
   "execution_count": 2,
   "id": "bc6470f9",
   "metadata": {},
   "outputs": [],
   "source": [
    "from nomic.aws.sagemaker import batch_transform"
   ]
  },
  {
   "cell_type": "code",
   "execution_count": null,
   "id": "24509f3a",
   "metadata": {},
   "outputs": [],
   "source": []
  }
 ],
 "metadata": {
  "kernelspec": {
   "display_name": "atlas_env",
   "language": "python",
   "name": "atlas_env"
  },
  "language_info": {
   "codemirror_mode": {
    "name": "ipython",
    "version": 3
   },
   "file_extension": ".py",
   "mimetype": "text/x-python",
   "name": "python",
   "nbconvert_exporter": "python",
   "pygments_lexer": "ipython3",
   "version": "3.11.4"
  }
 },
 "nbformat": 4,
 "nbformat_minor": 5
}
